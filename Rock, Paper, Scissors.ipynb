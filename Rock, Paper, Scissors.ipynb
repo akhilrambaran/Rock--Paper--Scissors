{
 "cells": [
  {
   "cell_type": "code",
   "execution_count": 21,
   "id": "bbb173b8",
   "metadata": {},
   "outputs": [
    {
     "data": {
      "text/html": [
       "\n",
       "                <script type=\"application/javascript\" id=\"jupyter_black\">\n",
       "                (function() {\n",
       "                    if (window.IPython === undefined) {\n",
       "                        return\n",
       "                    }\n",
       "                    var msg = \"WARNING: it looks like you might have loaded \" +\n",
       "                        \"jupyter_black in a non-lab notebook with \" +\n",
       "                        \"`is_lab=True`. Please double check, and if \" +\n",
       "                        \"loading with `%load_ext` please review the README!\"\n",
       "                    console.log(msg)\n",
       "                    alert(msg)\n",
       "                })()\n",
       "                </script>\n",
       "                "
      ],
      "text/plain": [
       "<IPython.core.display.HTML object>"
      ]
     },
     "metadata": {},
     "output_type": "display_data"
    }
   ],
   "source": [
    "%reload_ext jupyter_black\n",
    "\n",
    "from enum import IntEnum\n",
    "from random import randint\n",
    "from snoop import snoop, spy\n",
    "from dataclasses import dataclass\n",
    "from contextlib import suppress"
   ]
  },
  {
   "cell_type": "code",
   "execution_count": 22,
   "id": "848f87c0",
   "metadata": {},
   "outputs": [],
   "source": [
    "class RPS(IntEnum):\n",
    "    Rock = 1\n",
    "    Paper = 2\n",
    "    Scissors = 3\n"
   ]
  },
  {
   "cell_type": "code",
   "execution_count": 23,
   "id": "122ee450",
   "metadata": {},
   "outputs": [],
   "source": [
    "@dataclass\n",
    "class GameActions:\n",
    "    user_choice: int\n",
    "    computer_choice: int\n",
    "\n",
    "    @staticmethod\n",
    "    # @snoop\n",
    "    def user_input() -> int | None:\n",
    "        user_input: int = int(\n",
    "            input(\n",
    "                f\"{dict(zip(RPS._value2member_map_, RPS._member_map_))}\\nPlease make your choice: \"\n",
    "            )\n",
    "        )\n",
    "\n",
    "        return user_input if user_input == RPS(value=user_input) else None\n",
    "\n",
    "    @staticmethod\n",
    "    # @snoop\n",
    "    def computer_input() -> int:\n",
    "        return randint(a=1, b=3)\n",
    "\n",
    "    def winner(self) -> str | None:\n",
    "        with suppress(ValueError):\n",
    "            win_situations: dict[int, str] = {\n",
    "                1: \"It's a tie\",\n",
    "                2: \"You win!\",\n",
    "                3: \"You lose :(\",\n",
    "            }\n",
    "            if RPS(value=self.user_choice) is RPS(value=self.computer_choice):\n",
    "                return win_situations[1]\n",
    "            elif RPS(value=self.user_choice) > RPS(value=self.computer_choice):\n",
    "                return win_situations[2]\n",
    "            elif RPS(value=self.user_choice) < RPS(value=self.computer_choice):\n",
    "                return win_situations[3]\n",
    "            else:\n",
    "                return None\n"
   ]
  },
  {
   "cell_type": "code",
   "execution_count": 24,
   "id": "9fbcf94f",
   "metadata": {},
   "outputs": [],
   "source": [
    "# @spy\n",
    "def final_result() -> None:\n",
    "    try:\n",
    "        user: int | None = GameActions.user_input()\n",
    "        computer: int = GameActions.computer_input()\n",
    "        combined_input: GameActions = GameActions(\n",
    "            user_choice=user, computer_choice=computer\n",
    "        )\n",
    "\n",
    "        print(f\"You chose: {RPS(value=user).name}\")\n",
    "        print(f\"Computer chose: {RPS(value=computer).name}\", end=\"\\n\\n\")\n",
    "        print(GameActions.winner(self=combined_input))\n",
    "\n",
    "    except ValueError as ve:\n",
    "        print(\"Invalid Choice. Please try again\")"
   ]
  },
  {
   "cell_type": "code",
   "execution_count": 25,
   "id": "5a41b1e0",
   "metadata": {},
   "outputs": [
    {
     "name": "stdout",
     "output_type": "stream",
     "text": [
      "You chose: Scissors\n",
      "Computer chose: Paper\n",
      "\n",
      "You win!\n"
     ]
    }
   ],
   "source": [
    "final_result()\n"
   ]
  }
 ],
 "metadata": {
  "jupytext": {
   "cell_metadata_filter": "-all",
   "main_language": "python",
   "notebook_metadata_filter": "-all"
  },
  "kernelspec": {
   "display_name": "Python 3",
   "language": "python",
   "name": "python3"
  },
  "language_info": {
   "codemirror_mode": {
    "name": "ipython",
    "version": 3
   },
   "file_extension": ".py",
   "mimetype": "text/x-python",
   "name": "python",
   "nbconvert_exporter": "python",
   "pygments_lexer": "ipython3",
   "version": "3.11.6"
  },
  "vscode": {
   "interpreter": {
    "hash": "26de051ba29f2982a8de78e945f0abaf191376122a1563185a90213a26c5da77"
   }
  }
 },
 "nbformat": 4,
 "nbformat_minor": 5
}
